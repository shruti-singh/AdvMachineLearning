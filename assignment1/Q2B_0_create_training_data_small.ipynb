{
 "cells": [
  {
   "cell_type": "code",
   "execution_count": 1,
   "metadata": {},
   "outputs": [],
   "source": [
    "import json\n",
    "import glob\n",
    "import nltk\n",
    "from pprint import pprint\n",
    "from ast import literal_eval"
   ]
  },
  {
   "cell_type": "code",
   "execution_count": null,
   "metadata": {},
   "outputs": [],
   "source": []
  },
  {
   "cell_type": "code",
   "execution_count": 2,
   "metadata": {},
   "outputs": [],
   "source": [
    "data_files = glob.glob(\"/home/singh_shruti/data/*/*\")"
   ]
  },
  {
   "cell_type": "code",
   "execution_count": 3,
   "metadata": {},
   "outputs": [
    {
     "data": {
      "text/plain": [
       "['/home/singh_shruti/data/iclr/2013_2016_ICLR',\n",
       " '/home/singh_shruti/data/iclr/2017_ICLR',\n",
       " '/home/singh_shruti/data/iclr/2019_ICLR',\n",
       " '/home/singh_shruti/data/iclr/2018_ICLR',\n",
       " '/home/singh_shruti/data/iclr/2020_ICLR',\n",
       " '/home/singh_shruti/data/cvpr/cvpr_fulltexts',\n",
       " '/home/singh_shruti/data/acl_anth/acl_full_text.json',\n",
       " '/home/singh_shruti/data/neurips/neurips_fulltexts']"
      ]
     },
     "execution_count": 3,
     "metadata": {},
     "output_type": "execute_result"
    }
   ],
   "source": [
    "data_files"
   ]
  },
  {
   "cell_type": "code",
   "execution_count": null,
   "metadata": {},
   "outputs": [],
   "source": []
  },
  {
   "cell_type": "code",
   "execution_count": 4,
   "metadata": {},
   "outputs": [],
   "source": [
    "sentences_list = []\n",
    "full_text_sentences_list = []"
   ]
  },
  {
   "cell_type": "code",
   "execution_count": null,
   "metadata": {},
   "outputs": [],
   "source": []
  },
  {
   "cell_type": "markdown",
   "metadata": {},
   "source": [
    "### 1. NeurIPS"
   ]
  },
  {
   "cell_type": "code",
   "execution_count": 5,
   "metadata": {},
   "outputs": [
    {
     "data": {
      "text/plain": [
       "(9671, str)"
      ]
     },
     "execution_count": 5,
     "metadata": {},
     "output_type": "execute_result"
    }
   ],
   "source": [
    "with open(\"/home/singh_shruti/data/neurips/neurips_fulltexts\", \"r\") as f:\n",
    "    txt = f.readlines()\n",
    "len(txt), type(txt[0])"
   ]
  },
  {
   "cell_type": "code",
   "execution_count": 6,
   "metadata": {},
   "outputs": [],
   "source": [
    "missing_title = []\n",
    "\n",
    "for l in txt:\n",
    "    paper_dict = json.loads(l)\n",
    "    \n",
    "    if \"title\" in paper_dict[\"metadata\"] and paper_dict[\"metadata\"][\"title\"]:\n",
    "        sentences_list.append(paper_dict[\"metadata\"][\"title\"])\n",
    "        full_text_sentences_list.append(paper_dict[\"metadata\"][\"title\"])\n",
    "    else:\n",
    "        missing_title.append(paper_dict)\n",
    "        #print(\"Title missing: \", paper_dict[\"metadata\"].keys())\n",
    "    \n",
    "    if \"metadata\" in paper_dict and \"abstractText\" in paper_dict[\"metadata\"] and paper_dict[\"metadata\"][\"abstractText\"]:\n",
    "        try:\n",
    "            abs_sents = nltk.sent_tokenize(paper_dict[\"metadata\"][\"abstractText\"])\n",
    "        except Exception as ex:\n",
    "            print(ex)\n",
    "            print(\"On abs: \", paper_dict[\"metadata\"][\"abstractText\"])\n",
    "            abs_sents = []\n",
    "        for i in abs_sents:\n",
    "            sentences_list.append(i)\n",
    "            full_text_sentences_list.append(i)\n",
    "    \n",
    "    if \"metadata\" in paper_dict and \"sections\" in paper_dict[\"metadata\"] and  paper_dict[\"metadata\"][\"sections\"]:\n",
    "        for sec in paper_dict[\"metadata\"][\"sections\"]:\n",
    "            if \"text\" in sec and sec[\"text\"]:\n",
    "                try:\n",
    "                    section_text = nltk.sent_tokenize(sec[\"text\"])\n",
    "                except Exception as ex:\n",
    "                    print(ex)\n",
    "                    print(\"On section: \", sec[\"text\"])\n",
    "                    section_text = []\n",
    "                for i in section_text:\n",
    "                    full_text_sentences_list.append(i)"
   ]
  },
  {
   "cell_type": "code",
   "execution_count": 7,
   "metadata": {},
   "outputs": [
    {
     "data": {
      "text/plain": [
       "(270, 78755, 1716431)"
      ]
     },
     "execution_count": 7,
     "metadata": {},
     "output_type": "execute_result"
    }
   ],
   "source": [
    "len(missing_title), len(sentences_list), len(full_text_sentences_list)"
   ]
  },
  {
   "cell_type": "code",
   "execution_count": null,
   "metadata": {},
   "outputs": [],
   "source": []
  },
  {
   "cell_type": "code",
   "execution_count": null,
   "metadata": {},
   "outputs": [],
   "source": []
  },
  {
   "cell_type": "markdown",
   "metadata": {},
   "source": [
    "### 2. ICLR"
   ]
  },
  {
   "cell_type": "code",
   "execution_count": 8,
   "metadata": {},
   "outputs": [
    {
     "name": "stdout",
     "output_type": "stream",
     "text": [
      "/home/singh_shruti/data/iclr/2013_2016_ICLR 184 <class 'str'>\n",
      "98\n",
      "/home/singh_shruti/data/iclr/2017_ICLR 490 <class 'str'>\n",
      "232\n",
      "/home/singh_shruti/data/iclr/2019_ICLR 1418 <class 'str'>\n",
      "936\n",
      "/home/singh_shruti/data/iclr/2018_ICLR 909 <class 'str'>\n",
      "578\n",
      "/home/singh_shruti/data/iclr/2020_ICLR 2212 <class 'str'>\n",
      "1495\n"
     ]
    }
   ],
   "source": [
    "iclr_files = glob.glob(\"/home/singh_shruti/data/iclr/*\")\n",
    "\n",
    "for ifile in iclr_files:\n",
    "    with open(ifile, \"r\") as f:\n",
    "        txt = f.readlines()\n",
    "    print(ifile, len(txt), type(txt[0]))\n",
    "    \n",
    "    missing_title = []\n",
    "\n",
    "    for l in txt:\n",
    "        paper_dict = json.loads(l)\n",
    "\n",
    "        if \"title\" in paper_dict[\"metadata\"] and paper_dict[\"metadata\"][\"title\"]:\n",
    "            sentences_list.append(paper_dict[\"metadata\"][\"title\"])\n",
    "            full_text_sentences_list.append(paper_dict[\"metadata\"][\"title\"])\n",
    "        else:\n",
    "            missing_title.append(paper_dict)\n",
    "            #print(\"Title missing: \", paper_dict[\"metadata\"].keys())\n",
    "\n",
    "        if \"metadata\" in paper_dict and \"abstractText\" in paper_dict[\"metadata\"] and paper_dict[\"metadata\"][\"abstractText\"]:\n",
    "            try:\n",
    "                abs_sents = nltk.sent_tokenize(paper_dict[\"metadata\"][\"abstractText\"])\n",
    "            except Exception as ex:\n",
    "                print(ex)\n",
    "                print(\"On abs: \", paper_dict[\"metadata\"][\"abstractText\"])\n",
    "                abs_sents = []\n",
    "            for i in abs_sents:\n",
    "                sentences_list.append(i)\n",
    "                full_text_sentences_list.append(i)\n",
    "\n",
    "        if \"metadata\" in paper_dict and \"sections\" in paper_dict[\"metadata\"] and  paper_dict[\"metadata\"][\"sections\"]:\n",
    "            for sec in paper_dict[\"metadata\"][\"sections\"]:\n",
    "                if \"text\" in sec and sec[\"text\"]:\n",
    "                    try:\n",
    "                        section_text = nltk.sent_tokenize(sec[\"text\"])\n",
    "                    except Exception as ex:\n",
    "                        print(ex)\n",
    "                        print(\"On section: \", sec[\"text\"])\n",
    "                        section_text = []\n",
    "                    for i in section_text:\n",
    "                        full_text_sentences_list.append(i)\n",
    "    print(len(missing_title))"
   ]
  },
  {
   "cell_type": "code",
   "execution_count": 9,
   "metadata": {},
   "outputs": [
    {
     "name": "stdout",
     "output_type": "stream",
     "text": [
      "118268 3241692\n"
     ]
    }
   ],
   "source": [
    "print(len(sentences_list), len(full_text_sentences_list))"
   ]
  },
  {
   "cell_type": "code",
   "execution_count": null,
   "metadata": {},
   "outputs": [],
   "source": []
  },
  {
   "cell_type": "code",
   "execution_count": null,
   "metadata": {},
   "outputs": [],
   "source": []
  },
  {
   "cell_type": "markdown",
   "metadata": {},
   "source": [
    "## Save the training data to a single file "
   ]
  },
  {
   "cell_type": "code",
   "execution_count": 10,
   "metadata": {},
   "outputs": [],
   "source": [
    "with open(\"training_data_paper_abstracts_neurips_iclr.txt\", \"w\") as f:\n",
    "    for i in sentences_list:\n",
    "        try:\n",
    "            f.write(i + \"\\n\")\n",
    "        except Exception as ex:\n",
    "            continue"
   ]
  },
  {
   "cell_type": "code",
   "execution_count": 11,
   "metadata": {},
   "outputs": [
    {
     "data": {
      "text/plain": [
       "118268"
      ]
     },
     "execution_count": 11,
     "metadata": {},
     "output_type": "execute_result"
    }
   ],
   "source": [
    "len(sentences_list)"
   ]
  },
  {
   "cell_type": "code",
   "execution_count": 12,
   "metadata": {},
   "outputs": [],
   "source": [
    "with open(\"training_data_paper_fulltext_neurips_iclr.txt\", \"w\") as f:\n",
    "    for i in full_text_sentences_list:\n",
    "        try:\n",
    "            f.write(i + \"\\n\")\n",
    "        except Exception as ex:\n",
    "            continue"
   ]
  },
  {
   "cell_type": "code",
   "execution_count": 13,
   "metadata": {},
   "outputs": [
    {
     "name": "stdout",
     "output_type": "stream",
     "text": [
      "3241692\n"
     ]
    }
   ],
   "source": [
    "print(len(full_text_sentences_list))"
   ]
  },
  {
   "cell_type": "code",
   "execution_count": null,
   "metadata": {},
   "outputs": [],
   "source": []
  }
 ],
 "metadata": {
  "kernelspec": {
   "display_name": "Python 3",
   "language": "python",
   "name": "python3"
  },
  "language_info": {
   "codemirror_mode": {
    "name": "ipython",
    "version": 3
   },
   "file_extension": ".py",
   "mimetype": "text/x-python",
   "name": "python",
   "nbconvert_exporter": "python",
   "pygments_lexer": "ipython3",
   "version": "3.8.2"
  }
 },
 "nbformat": 4,
 "nbformat_minor": 4
}
